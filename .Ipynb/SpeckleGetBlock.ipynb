{
 "cells": [
  {
   "cell_type": "code",
   "execution_count": 16,
   "metadata": {},
   "outputs": [
    {
     "name": "stdout",
     "output_type": "stream",
     "text": [
      "Hello Speckle Tutorial Get Block Autocad!\n"
     ]
    }
   ],
   "source": [
    "print(\"Hello Speckle Tutorial Get Block Autocad!\")"
   ]
  },
  {
   "cell_type": "code",
   "execution_count": 56,
   "metadata": {},
   "outputs": [
    {
     "name": "stdout",
     "output_type": "stream",
     "text": [
      "Requirement already satisfied: pip in /Library/Frameworks/Python.framework/Versions/3.11/lib/python3.11/site-packages (23.1.2)\n",
      "Requirement already satisfied: specklepy in /Library/Frameworks/Python.framework/Versions/3.11/lib/python3.11/site-packages (2.15.0)\n",
      "Requirement already satisfied: Deprecated<2.0.0,>=1.2.13 in /Library/Frameworks/Python.framework/Versions/3.11/lib/python3.11/site-packages (from specklepy) (1.2.13)\n",
      "Requirement already satisfied: appdirs<2.0.0,>=1.4.4 in /Library/Frameworks/Python.framework/Versions/3.11/lib/python3.11/site-packages (from specklepy) (1.4.4)\n",
      "Requirement already satisfied: gql[requests,websockets]<4.0.0,>=3.3.0 in /Library/Frameworks/Python.framework/Versions/3.11/lib/python3.11/site-packages (from specklepy) (3.4.0)\n",
      "Requirement already satisfied: pydantic<2.0,>=1.9 in /Library/Frameworks/Python.framework/Versions/3.11/lib/python3.11/site-packages (from specklepy) (1.10.4)\n",
      "Requirement already satisfied: stringcase<2.0.0,>=1.2.0 in /Library/Frameworks/Python.framework/Versions/3.11/lib/python3.11/site-packages (from specklepy) (1.2.0)\n",
      "Requirement already satisfied: ujson<6.0.0,>=5.3.0 in /Library/Frameworks/Python.framework/Versions/3.11/lib/python3.11/site-packages (from specklepy) (5.7.0)\n",
      "Requirement already satisfied: wrapt<2,>=1.10 in /Library/Frameworks/Python.framework/Versions/3.11/lib/python3.11/site-packages (from Deprecated<2.0.0,>=1.2.13->specklepy) (1.14.1)\n",
      "Requirement already satisfied: graphql-core<3.3,>=3.2 in /Library/Frameworks/Python.framework/Versions/3.11/lib/python3.11/site-packages (from gql[requests,websockets]<4.0.0,>=3.3.0->specklepy) (3.2.3)\n",
      "Requirement already satisfied: yarl<2.0,>=1.6 in /Library/Frameworks/Python.framework/Versions/3.11/lib/python3.11/site-packages (from gql[requests,websockets]<4.0.0,>=3.3.0->specklepy) (1.8.2)\n",
      "Requirement already satisfied: backoff<3.0,>=1.11.1 in /Library/Frameworks/Python.framework/Versions/3.11/lib/python3.11/site-packages (from gql[requests,websockets]<4.0.0,>=3.3.0->specklepy) (2.2.1)\n",
      "Requirement already satisfied: requests<3,>=2.26 in /Library/Frameworks/Python.framework/Versions/3.11/lib/python3.11/site-packages (from gql[requests,websockets]<4.0.0,>=3.3.0->specklepy) (2.28.1)\n",
      "Requirement already satisfied: requests-toolbelt<1,>=0.9.1 in /Library/Frameworks/Python.framework/Versions/3.11/lib/python3.11/site-packages (from gql[requests,websockets]<4.0.0,>=3.3.0->specklepy) (0.10.1)\n",
      "Requirement already satisfied: urllib3>=1.26 in /Library/Frameworks/Python.framework/Versions/3.11/lib/python3.11/site-packages (from gql[requests,websockets]<4.0.0,>=3.3.0->specklepy) (1.26.13)\n",
      "Requirement already satisfied: websockets<11,>=10 in /Library/Frameworks/Python.framework/Versions/3.11/lib/python3.11/site-packages (from gql[requests,websockets]<4.0.0,>=3.3.0->specklepy) (10.4)\n",
      "Requirement already satisfied: typing-extensions>=4.2.0 in /Library/Frameworks/Python.framework/Versions/3.11/lib/python3.11/site-packages (from pydantic<2.0,>=1.9->specklepy) (4.4.0)\n",
      "Requirement already satisfied: charset-normalizer<3,>=2 in /Library/Frameworks/Python.framework/Versions/3.11/lib/python3.11/site-packages (from requests<3,>=2.26->gql[requests,websockets]<4.0.0,>=3.3.0->specklepy) (2.1.1)\n",
      "Requirement already satisfied: idna<4,>=2.5 in /Library/Frameworks/Python.framework/Versions/3.11/lib/python3.11/site-packages (from requests<3,>=2.26->gql[requests,websockets]<4.0.0,>=3.3.0->specklepy) (3.4)\n",
      "Requirement already satisfied: certifi>=2017.4.17 in /Library/Frameworks/Python.framework/Versions/3.11/lib/python3.11/site-packages (from requests<3,>=2.26->gql[requests,websockets]<4.0.0,>=3.3.0->specklepy) (2022.12.7)\n",
      "Requirement already satisfied: multidict>=4.0 in /Library/Frameworks/Python.framework/Versions/3.11/lib/python3.11/site-packages (from yarl<2.0,>=1.6->gql[requests,websockets]<4.0.0,>=3.3.0->specklepy) (6.0.4)\n"
     ]
    }
   ],
   "source": [
    "# Install update Specklepy \n",
    "!pip install --upgrade pip\n",
    "!pip install --upgrade specklepy"
   ]
  },
  {
   "cell_type": "code",
   "execution_count": 17,
   "metadata": {},
   "outputs": [],
   "source": [
    "# Import Library Specklepy\n",
    "import specklepy\n",
    "from specklepy.api.client import SpeckleClient\n",
    "from specklepy.api.credentials import get_default_account"
   ]
  },
  {
   "cell_type": "code",
   "execution_count": 18,
   "metadata": {},
   "outputs": [
    {
     "name": "stdout",
     "output_type": "stream",
     "text": [
      "Name of account: Hồ Văn Chương\n"
     ]
    }
   ],
   "source": [
    "# Get your account info\n",
    "account = get_default_account()\n",
    "print(\"Name of account: \" + account.userInfo.name)\n",
    "client = SpeckleClient(host=\"speckle.xyz\")\n",
    "client.authenticate_with_account(account)"
   ]
  },
  {
   "cell_type": "code",
   "execution_count": 25,
   "metadata": {},
   "outputs": [
    {
     "name": "stdout",
     "output_type": "stream",
     "text": [
      "Name of stream: AutocadTest\n"
     ]
    }
   ],
   "source": [
    "# Get your stream sent from Autocad\n",
    "# url = https://speckle.xyz/streams/088f1b9f0d/commits/11ad702ec5\n",
    "streamId = \"088f1b9f0d\" \n",
    "stream = client.stream.get(streamId)\n",
    "print(\"Name of stream: \" + stream.name)"
   ]
  },
  {
   "cell_type": "code",
   "execution_count": 33,
   "metadata": {},
   "outputs": [
    {
     "name": "stdout",
     "output_type": "stream",
     "text": [
      "Number of commits: 4\n"
     ]
    }
   ],
   "source": [
    "# Get all commit from your stream \n",
    "# get list of commits\n",
    "commits = client.commit.list(streamId)\n",
    "print(\"Number of commits: \" + str(len(commits)))\n",
    "# Get specific commit\n",
    "commitId = \"11ad702ec5\"\n",
    "commit = client.commit.get(streamId, commitId)\n"
   ]
  },
  {
   "cell_type": "code",
   "execution_count": 38,
   "metadata": {},
   "outputs": [],
   "source": [
    "from specklepy.transports.server import ServerTransport\n",
    "from specklepy.api import operations\n",
    "transport = ServerTransport(client=client, stream_id=streamId)\n",
    "res = operations.receive(commit.referencedObject, transport)\n",
    "blocks = res[\"@Blocks\"]"
   ]
  },
  {
   "cell_type": "code",
   "execution_count": 39,
   "metadata": {},
   "outputs": [
    {
     "name": "stdout",
     "output_type": "stream",
     "text": [
      "Number of blocks: 10\n"
     ]
    }
   ],
   "source": [
    "# Get all blocks from your stream\n",
    "print(\"Number of blocks: \" + str(len(blocks)))"
   ]
  },
  {
   "cell_type": "code",
   "execution_count": 50,
   "metadata": {},
   "outputs": [
    {
     "data": {
      "text/html": [
       "<div>\n",
       "<style scoped>\n",
       "    .dataframe tbody tr th:only-of-type {\n",
       "        vertical-align: middle;\n",
       "    }\n",
       "\n",
       "    .dataframe tbody tr th {\n",
       "        vertical-align: top;\n",
       "    }\n",
       "\n",
       "    .dataframe thead th {\n",
       "        text-align: right;\n",
       "    }\n",
       "</style>\n",
       "<table border=\"1\" class=\"dataframe\">\n",
       "  <thead>\n",
       "    <tr style=\"text-align: right;\">\n",
       "      <th></th>\n",
       "      <th>Name</th>\n",
       "      <th>X</th>\n",
       "      <th>Y</th>\n",
       "      <th>Z</th>\n",
       "    </tr>\n",
       "  </thead>\n",
       "  <tbody>\n",
       "    <tr>\n",
       "      <th>0</th>\n",
       "      <td>No host family</td>\n",
       "      <td>6.679914</td>\n",
       "      <td>4.881626</td>\n",
       "      <td>0</td>\n",
       "    </tr>\n",
       "    <tr>\n",
       "      <th>1</th>\n",
       "      <td>No host family</td>\n",
       "      <td>6.679914</td>\n",
       "      <td>2.843446</td>\n",
       "      <td>0</td>\n",
       "    </tr>\n",
       "    <tr>\n",
       "      <th>2</th>\n",
       "      <td>No host family</td>\n",
       "      <td>4.751273</td>\n",
       "      <td>2.339459</td>\n",
       "      <td>0</td>\n",
       "    </tr>\n",
       "    <tr>\n",
       "      <th>3</th>\n",
       "      <td>No host family</td>\n",
       "      <td>4.736437</td>\n",
       "      <td>4.073766</td>\n",
       "      <td>0</td>\n",
       "    </tr>\n",
       "    <tr>\n",
       "      <th>4</th>\n",
       "      <td>No host family</td>\n",
       "      <td>3.037749</td>\n",
       "      <td>3.577191</td>\n",
       "      <td>0</td>\n",
       "    </tr>\n",
       "    <tr>\n",
       "      <th>5</th>\n",
       "      <td>No host family</td>\n",
       "      <td>2.034083</td>\n",
       "      <td>5.656165</td>\n",
       "      <td>0</td>\n",
       "    </tr>\n",
       "    <tr>\n",
       "      <th>6</th>\n",
       "      <td>No host family</td>\n",
       "      <td>1.258367</td>\n",
       "      <td>3.576898</td>\n",
       "      <td>0</td>\n",
       "    </tr>\n",
       "    <tr>\n",
       "      <th>7</th>\n",
       "      <td>No host family</td>\n",
       "      <td>1.666880</td>\n",
       "      <td>1.576117</td>\n",
       "      <td>0</td>\n",
       "    </tr>\n",
       "    <tr>\n",
       "      <th>8</th>\n",
       "      <td>No host family</td>\n",
       "      <td>5.687441</td>\n",
       "      <td>0.712342</td>\n",
       "      <td>0</td>\n",
       "    </tr>\n",
       "    <tr>\n",
       "      <th>9</th>\n",
       "      <td>No host family</td>\n",
       "      <td>4.666589</td>\n",
       "      <td>5.858176</td>\n",
       "      <td>0</td>\n",
       "    </tr>\n",
       "  </tbody>\n",
       "</table>\n",
       "</div>"
      ],
      "text/plain": [
       "             Name         X         Y  Z\n",
       "0  No host family  6.679914  4.881626  0\n",
       "1  No host family  6.679914  2.843446  0\n",
       "2  No host family  4.751273  2.339459  0\n",
       "3  No host family  4.736437  4.073766  0\n",
       "4  No host family  3.037749  3.577191  0\n",
       "5  No host family  2.034083  5.656165  0\n",
       "6  No host family  1.258367  3.576898  0\n",
       "7  No host family  1.666880  1.576117  0\n",
       "8  No host family  5.687441  0.712342  0\n",
       "9  No host family  4.666589  5.858176  0"
      ]
     },
     "execution_count": 50,
     "metadata": {},
     "output_type": "execute_result"
    }
   ],
   "source": [
    "# Create a dictionary with information of blocks\n",
    "data = []\n",
    "for block in blocks:\n",
    "    dictBlocks = {}\n",
    "    dictBlocks[\"Name\"] = block.definition.name\n",
    "    dictBlocks[\"X\"] = block.transform.matrix[3]\n",
    "    dictBlocks[\"Y\"] = block.transform.matrix[7]\n",
    "    dictBlocks[\"Z\"] = block.transform.matrix[11]\n",
    "    data.append(dictBlocks)\n",
    "# Create a dataframe with information of blocks\n",
    "import pandas as pd\n",
    "df = pd.DataFrame(data)\n",
    "df\n"
   ]
  },
  {
   "cell_type": "code",
   "execution_count": 51,
   "metadata": {},
   "outputs": [],
   "source": [
    "# Save dataframe to csv file\n",
    "df.to_csv(\"blocks.csv\", index=False)\n"
   ]
  }
 ],
 "metadata": {
  "kernelspec": {
   "display_name": "Python 3",
   "language": "python",
   "name": "python3"
  },
  "language_info": {
   "codemirror_mode": {
    "name": "ipython",
    "version": 3
   },
   "file_extension": ".py",
   "mimetype": "text/x-python",
   "name": "python",
   "nbconvert_exporter": "python",
   "pygments_lexer": "ipython3",
   "version": "3.11.1"
  },
  "orig_nbformat": 4
 },
 "nbformat": 4,
 "nbformat_minor": 2
}
