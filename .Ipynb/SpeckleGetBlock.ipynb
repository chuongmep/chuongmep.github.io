{
 "cells": [
  {
   "cell_type": "code",
   "execution_count": 7,
   "metadata": {},
   "outputs": [
    {
     "name": "stdout",
     "output_type": "stream",
     "text": [
      "Hello Speckle Tutorial Get Block Autocad!\n"
     ]
    }
   ],
   "source": [
    "print(\"Hello Speckle Tutorial Get Block Autocad!\")"
   ]
  },
  {
   "cell_type": "code",
   "execution_count": 8,
   "metadata": {},
   "outputs": [],
   "source": [
    "# Install update Specklepy \n",
    "#!pip install --upgrade pip\n",
    "#!pip install --upgrade specklepy"
   ]
  },
  {
   "cell_type": "code",
   "execution_count": 9,
   "metadata": {},
   "outputs": [],
   "source": [
    "# Import Library Specklepy\n",
    "import specklepy\n",
    "from specklepy.api.client import SpeckleClient\n",
    "from specklepy.api.credentials import get_default_account"
   ]
  },
  {
   "cell_type": "code",
   "execution_count": 10,
   "metadata": {},
   "outputs": [
    {
     "name": "stdout",
     "output_type": "stream",
     "text": [
      "Name of account: Hồ Văn Chương\n"
     ]
    }
   ],
   "source": [
    "# Get your account info\n",
    "account = get_default_account()\n",
    "print(\"Name of account: \" + account.userInfo.name)\n",
    "client = SpeckleClient(host=\"speckle.xyz\")\n",
    "client.authenticate_with_account(account)"
   ]
  },
  {
   "cell_type": "code",
   "execution_count": 11,
   "metadata": {},
   "outputs": [
    {
     "name": "stdout",
     "output_type": "stream",
     "text": [
      "Name of stream: AutocadTest\n"
     ]
    }
   ],
   "source": [
    "# Get your stream sent from Autocad\n",
    "# url = https://speckle.xyz/streams/088f1b9f0d/commits/a5a06e4900\n",
    "streamId = \"088f1b9f0d\" \n",
    "stream = client.stream.get(streamId)\n",
    "print(\"Name of stream: \" + stream.name)"
   ]
  },
  {
   "cell_type": "code",
   "execution_count": 12,
   "metadata": {},
   "outputs": [
    {
     "name": "stdout",
     "output_type": "stream",
     "text": [
      "Number of commits: 7\n"
     ]
    }
   ],
   "source": [
    "# Get all commit from your stream \n",
    "# get list of commits\n",
    "commits = client.commit.list(streamId)\n",
    "print(\"Number of commits: \" + str(len(commits)))\n",
    "# Get specific commit\n",
    "commitId = \"a5a06e4900\"\n",
    "commit = client.commit.get(streamId, commitId)\n"
   ]
  },
  {
   "cell_type": "code",
   "execution_count": 13,
   "metadata": {},
   "outputs": [],
   "source": [
    "from specklepy.transports.server import ServerTransport\n",
    "from specklepy.api import operations\n",
    "transport = ServerTransport(client=client, stream_id=streamId)\n",
    "res = operations.receive(commit.referencedObject, transport)\n",
    "blocks = res[\"@Blocks\"]"
   ]
  },
  {
   "cell_type": "code",
   "execution_count": 14,
   "metadata": {},
   "outputs": [
    {
     "name": "stdout",
     "output_type": "stream",
     "text": [
      "Number of blocks: 17\n"
     ]
    }
   ],
   "source": [
    "# Get all blocks from your stream\n",
    "print(\"Number of blocks: \" + str(len(blocks)))"
   ]
  },
  {
   "cell_type": "code",
   "execution_count": 15,
   "metadata": {},
   "outputs": [
    {
     "data": {
      "text/html": [
       "<div>\n",
       "<style scoped>\n",
       "    .dataframe tbody tr th:only-of-type {\n",
       "        vertical-align: middle;\n",
       "    }\n",
       "\n",
       "    .dataframe tbody tr th {\n",
       "        vertical-align: top;\n",
       "    }\n",
       "\n",
       "    .dataframe thead th {\n",
       "        text-align: right;\n",
       "    }\n",
       "</style>\n",
       "<table border=\"1\" class=\"dataframe\">\n",
       "  <thead>\n",
       "    <tr style=\"text-align: right;\">\n",
       "      <th></th>\n",
       "      <th>Name</th>\n",
       "      <th>X</th>\n",
       "      <th>Y</th>\n",
       "      <th>Z</th>\n",
       "    </tr>\n",
       "  </thead>\n",
       "  <tbody>\n",
       "    <tr>\n",
       "      <th>0</th>\n",
       "      <td>Ponto de Força Saida de Fio</td>\n",
       "      <td>0.535000</td>\n",
       "      <td>3.194069</td>\n",
       "      <td>0.000000</td>\n",
       "    </tr>\n",
       "    <tr>\n",
       "      <th>1</th>\n",
       "      <td>Ponto de Força Saida de Fio</td>\n",
       "      <td>4.110000</td>\n",
       "      <td>6.765946</td>\n",
       "      <td>0.000000</td>\n",
       "    </tr>\n",
       "    <tr>\n",
       "      <th>2</th>\n",
       "      <td>a.Simples</td>\n",
       "      <td>1.346186</td>\n",
       "      <td>4.294069</td>\n",
       "      <td>0.000000</td>\n",
       "    </tr>\n",
       "    <tr>\n",
       "      <th>3</th>\n",
       "      <td>a.Simples</td>\n",
       "      <td>2.423730</td>\n",
       "      <td>0.164062</td>\n",
       "      <td>0.000000</td>\n",
       "    </tr>\n",
       "    <tr>\n",
       "      <th>4</th>\n",
       "      <td>a.Simples</td>\n",
       "      <td>3.614062</td>\n",
       "      <td>2.288337</td>\n",
       "      <td>0.000000</td>\n",
       "    </tr>\n",
       "    <tr>\n",
       "      <th>5</th>\n",
       "      <td>No host family</td>\n",
       "      <td>6.679914</td>\n",
       "      <td>4.881626</td>\n",
       "      <td>0.000000</td>\n",
       "    </tr>\n",
       "    <tr>\n",
       "      <th>6</th>\n",
       "      <td>No host family</td>\n",
       "      <td>6.679914</td>\n",
       "      <td>2.843446</td>\n",
       "      <td>0.000000</td>\n",
       "    </tr>\n",
       "    <tr>\n",
       "      <th>7</th>\n",
       "      <td>No host family</td>\n",
       "      <td>4.751273</td>\n",
       "      <td>2.339459</td>\n",
       "      <td>0.000000</td>\n",
       "    </tr>\n",
       "    <tr>\n",
       "      <th>8</th>\n",
       "      <td>No host family</td>\n",
       "      <td>4.736437</td>\n",
       "      <td>4.073766</td>\n",
       "      <td>0.000000</td>\n",
       "    </tr>\n",
       "    <tr>\n",
       "      <th>9</th>\n",
       "      <td>No host family</td>\n",
       "      <td>3.037749</td>\n",
       "      <td>3.577191</td>\n",
       "      <td>0.000000</td>\n",
       "    </tr>\n",
       "    <tr>\n",
       "      <th>10</th>\n",
       "      <td>No host family</td>\n",
       "      <td>2.034083</td>\n",
       "      <td>5.656165</td>\n",
       "      <td>0.000000</td>\n",
       "    </tr>\n",
       "    <tr>\n",
       "      <th>11</th>\n",
       "      <td>No host family</td>\n",
       "      <td>1.258367</td>\n",
       "      <td>3.576898</td>\n",
       "      <td>0.000000</td>\n",
       "    </tr>\n",
       "    <tr>\n",
       "      <th>12</th>\n",
       "      <td>No host family</td>\n",
       "      <td>1.666880</td>\n",
       "      <td>1.576117</td>\n",
       "      <td>0.000000</td>\n",
       "    </tr>\n",
       "    <tr>\n",
       "      <th>13</th>\n",
       "      <td>No host family</td>\n",
       "      <td>5.687441</td>\n",
       "      <td>0.712342</td>\n",
       "      <td>0.000000</td>\n",
       "    </tr>\n",
       "    <tr>\n",
       "      <th>14</th>\n",
       "      <td>No host family</td>\n",
       "      <td>4.666589</td>\n",
       "      <td>5.858176</td>\n",
       "      <td>0.000000</td>\n",
       "    </tr>\n",
       "    <tr>\n",
       "      <th>15</th>\n",
       "      <td>Exaustor de Ar Ventokit</td>\n",
       "      <td>3.785541</td>\n",
       "      <td>5.793919</td>\n",
       "      <td>-0.002091</td>\n",
       "    </tr>\n",
       "    <tr>\n",
       "      <th>16</th>\n",
       "      <td>Exaustor de Ar Ventokit</td>\n",
       "      <td>1.078743</td>\n",
       "      <td>3.921159</td>\n",
       "      <td>-0.002091</td>\n",
       "    </tr>\n",
       "  </tbody>\n",
       "</table>\n",
       "</div>"
      ],
      "text/plain": [
       "                           Name         X         Y         Z\n",
       "0   Ponto de Força Saida de Fio  0.535000  3.194069  0.000000\n",
       "1   Ponto de Força Saida de Fio  4.110000  6.765946  0.000000\n",
       "2                     a.Simples  1.346186  4.294069  0.000000\n",
       "3                     a.Simples  2.423730  0.164062  0.000000\n",
       "4                     a.Simples  3.614062  2.288337  0.000000\n",
       "5                No host family  6.679914  4.881626  0.000000\n",
       "6                No host family  6.679914  2.843446  0.000000\n",
       "7                No host family  4.751273  2.339459  0.000000\n",
       "8                No host family  4.736437  4.073766  0.000000\n",
       "9                No host family  3.037749  3.577191  0.000000\n",
       "10               No host family  2.034083  5.656165  0.000000\n",
       "11               No host family  1.258367  3.576898  0.000000\n",
       "12               No host family  1.666880  1.576117  0.000000\n",
       "13               No host family  5.687441  0.712342  0.000000\n",
       "14               No host family  4.666589  5.858176  0.000000\n",
       "15      Exaustor de Ar Ventokit  3.785541  5.793919 -0.002091\n",
       "16      Exaustor de Ar Ventokit  1.078743  3.921159 -0.002091"
      ]
     },
     "execution_count": 15,
     "metadata": {},
     "output_type": "execute_result"
    }
   ],
   "source": [
    "# Create a dictionary with information of blocks\n",
    "data = []\n",
    "for block in blocks:\n",
    "    dictBlocks = {}\n",
    "    dictBlocks[\"Name\"] = block.definition.name\n",
    "    dictBlocks[\"X\"] = block.transform.matrix[3]\n",
    "    dictBlocks[\"Y\"] = block.transform.matrix[7]\n",
    "    dictBlocks[\"Z\"] = block.transform.matrix[11]\n",
    "    data.append(dictBlocks)\n",
    "# Create a dataframe with information of blocks\n",
    "import pandas as pd\n",
    "df = pd.DataFrame(data)\n",
    "df\n"
   ]
  },
  {
   "cell_type": "code",
   "execution_count": 16,
   "metadata": {},
   "outputs": [],
   "source": [
    "# Save dataframe to csv file\n",
    "df.to_csv(\"blocks.csv\", index=False)\n"
   ]
  },
  {
   "cell_type": "code",
   "execution_count": 17,
   "metadata": {
    "notebookRunGroups": {
     "groupValue": "1"
    }
   },
   "outputs": [
    {
     "name": "stdout",
     "output_type": "stream",
     "text": [
      "(957.49, 15.0643969, 0)\n",
      "(0.9396926, 0.342020154, 0)\n"
     ]
    }
   ],
   "source": [
    "mat = [ [0.9396926 ,-0.342020154,0,957.49,],\n",
    "       [0.342020154 ,0.9396926, 0, 15.0643969],\n",
    "       [0,0,1,0],\n",
    "       [0,0,0,1]\n",
    "       ]\n",
    "def getLocation(mat):\n",
    "    x = mat[0][3]\n",
    "    y = mat[1][3]\n",
    "    z = mat[2][3]\n",
    "    return x,y,z\n",
    "print(getLocation(mat))\n",
    "def getAngle(mat):\n",
    "    x = mat[0][0]\n",
    "    y = mat[1][0]\n",
    "    z = mat[2][0]\n",
    "    return x,y,z\n",
    "print(getAngle(mat))"
   ]
  },
  {
   "cell_type": "code",
   "execution_count": 18,
   "metadata": {},
   "outputs": [
    {
     "name": "stdout",
     "output_type": "stream",
     "text": [
      "Transformation Matrix:\n",
      " [[ 1.00000000e+00  0.00000000e+00  0.00000000e+00  9.57490000e+02]\n",
      " [ 0.00000000e+00  9.39692621e-01 -3.42020143e-01  1.50643969e+01]\n",
      " [ 0.00000000e+00  3.42020143e-01  9.39692621e-01  0.00000000e+00]\n",
      " [ 0.00000000e+00  0.00000000e+00  0.00000000e+00  1.00000000e+00]]\n"
     ]
    }
   ],
   "source": [
    "import numpy as np\n",
    "import math\n",
    "\n",
    "def create_transform_matrix(x, y, z, rotation_angles):\n",
    "    # Convert rotation angles to radians\n",
    "    rotation_angles_radians = np.radians(rotation_angles)\n",
    "    roll, pitch, yaw = rotation_angles_radians\n",
    "\n",
    "    # Create rotation matrices for each axis\n",
    "    rotation_x = np.array([\n",
    "        [1, 0, 0, 0],\n",
    "        [0, math.cos(roll), -math.sin(roll), 0],\n",
    "        [0, math.sin(roll), math.cos(roll), 0],\n",
    "        [0, 0, 0, 1]\n",
    "    ])\n",
    "\n",
    "    rotation_y = np.array([\n",
    "        [math.cos(pitch), 0, math.sin(pitch), 0],\n",
    "        [0, 1, 0, 0],\n",
    "        [-math.sin(pitch), 0, math.cos(pitch), 0],\n",
    "        [0, 0, 0, 1]\n",
    "    ])\n",
    "\n",
    "    rotation_z = np.array([\n",
    "        [math.cos(yaw), -math.sin(yaw), 0, 0],\n",
    "        [math.sin(yaw), math.cos(yaw), 0, 0],\n",
    "        [0, 0, 1, 0],\n",
    "        [0, 0, 0, 1]\n",
    "    ])\n",
    "\n",
    "    # Create the translation matrix\n",
    "    translation = np.array([\n",
    "        [1, 0, 0, x],\n",
    "        [0, 1, 0, y],\n",
    "        [0, 0, 1, z],\n",
    "        [0, 0, 0, 1]\n",
    "    ])\n",
    "\n",
    "    # Combine rotation and translation matrices\n",
    "    transform_matrix = np.dot(translation, np.dot(rotation_z, np.dot(rotation_y, rotation_x)))\n",
    "\n",
    "    return transform_matrix\n",
    "\n",
    "# Example input\n",
    "x = 957.49\n",
    "y = 15.0643969 \n",
    "z = 0\n",
    "rotation_angles = (20, 0, 0)  # Roll = 20 degrees\n",
    "\n",
    "# Create and print the transformation matrix\n",
    "transform_matrix = create_transform_matrix(x, y, z, rotation_angles)\n",
    "print(\"Transformation Matrix:\\n\", transform_matrix)"
   ]
  },
  {
   "cell_type": "code",
   "execution_count": 19,
   "metadata": {},
   "outputs": [
    {
     "name": "stdout",
     "output_type": "stream",
     "text": [
      "[[ 9.39692621e-01 -3.42020143e-01  0.00000000e+00  9.57490000e+02]\n",
      " [ 3.42020143e-01  9.39692621e-01  0.00000000e+00  1.50643969e+01]\n",
      " [ 0.00000000e+00  0.00000000e+00  1.00000000e+00  0.00000000e+00]\n",
      " [ 0.00000000e+00  0.00000000e+00  0.00000000e+00  1.00000000e+00]]\n"
     ]
    }
   ],
   "source": [
    "import math\n",
    "import numpy as np\n",
    "\n",
    "def create_transformation_matrix(x, y, z, angle):\n",
    "    # Convert the angle to radians\n",
    "    angle_rad = math.radians(angle)\n",
    "    \n",
    "    # Create the rotation matrix\n",
    "    rotation_matrix = np.array([[math.cos(angle_rad), -math.sin(angle_rad), 0, 0],\n",
    "                                [math.sin(angle_rad), math.cos(angle_rad), 0, 0],\n",
    "                                [0, 0, 1, 0],\n",
    "                                [0, 0, 0, 1]])\n",
    "    \n",
    "    # Create the translation matrix\n",
    "    translation_matrix = np.array([[1, 0, 0, x],\n",
    "                                   [0, 1, 0, y],\n",
    "                                   [0, 0, 1, z],\n",
    "                                   [0, 0, 0, 1]])\n",
    "    \n",
    "    # Compute the transformation matrix\n",
    "    transformation_matrix = np.dot(translation_matrix, rotation_matrix)\n",
    "    \n",
    "    return transformation_matrix\n",
    "x = 957.49\n",
    "y = 15.0643969\n",
    "z = 0\n",
    "angle = 20\n",
    "\n",
    "transformation_matrix = create_transformation_matrix(x, y, z, angle)\n",
    "print(transformation_matrix)\n"
   ]
  },
  {
   "cell_type": "code",
   "execution_count": 20,
   "metadata": {},
   "outputs": [
    {
     "name": "stdout",
     "output_type": "stream",
     "text": [
      "Test with Example:\n",
      "Rotation Axis: [0. 0. 1.]\n",
      "Rotation Angle (Degrees): 20.0\n",
      "Test result transformation:\n",
      "Rotation Axis: [0. 0. 1.]\n",
      "Rotation Angle (Degrees): 20.0\n"
     ]
    }
   ],
   "source": [
    "import numpy as np\n",
    "import math\n",
    "\n",
    "def get_rotation_angles(matrix):\n",
    "    # Extract the rotation submatrix\n",
    "    rotation_matrix = matrix[:3, :3]\n",
    "\n",
    "    # Calculate the rotation angles using the axis-angle representation\n",
    "    axis_angle = rotation_matrix_to_axis_angle(rotation_matrix)\n",
    "    rotation_angle = np.linalg.norm(axis_angle)\n",
    "    rotation_axis = axis_angle / rotation_angle\n",
    "\n",
    "    # Convert the rotation angle to degrees\n",
    "    rotation_angle_degrees = math.degrees(rotation_angle)\n",
    "\n",
    "    return rotation_axis, rotation_angle_degrees\n",
    "\n",
    "def rotation_matrix_to_axis_angle(matrix):\n",
    "    trace = np.trace(matrix)\n",
    "    angle = math.acos((trace - 1) / 2.0)\n",
    "\n",
    "    axis = np.array([\n",
    "        matrix[2, 1] - matrix[1, 2],\n",
    "        matrix[0, 2] - matrix[2, 0],\n",
    "        matrix[1, 0] - matrix[0, 1]\n",
    "    ])\n",
    "\n",
    "    axis /= (2 * math.sin(angle))\n",
    "\n",
    "    return axis * angle\n",
    "\n",
    "# Example matrix\n",
    "matrix = np.array([\n",
    "    [0.9396926, -0.342020154, 0, 957.49],\n",
    "    [0.342020154, 0.9396926, 0, 15.0643969],\n",
    "    [0, 0, 1, 0],\n",
    "    [0, 0, 0, 1]\n",
    "])\n",
    "\n",
    "# Calculate and print the rotation angles\n",
    "print(\"Test with Example:\")\n",
    "rotation_axis, rotation_angle = get_rotation_angles(matrix)\n",
    "print(\"Rotation Axis:\", rotation_axis)\n",
    "print(\"Rotation Angle (Degrees):\", round(rotation_angle, 2))\n",
    "\n",
    "# Test with result transformation\n",
    "print(\"Test result transformation:\")\n",
    "# Calculate and print the rotation angles\n",
    "rotation_axis, rotation_angle = get_rotation_angles(transformation_matrix)\n",
    "print(\"Rotation Axis:\", rotation_axis)\n",
    "print(\"Rotation Angle (Degrees):\", round(rotation_angle, 2))"
   ]
  }
 ],
 "metadata": {
  "kernelspec": {
   "display_name": "Python 3",
   "language": "python",
   "name": "python3"
  },
  "language_info": {
   "codemirror_mode": {
    "name": "ipython",
    "version": 3
   },
   "file_extension": ".py",
   "mimetype": "text/x-python",
   "name": "python",
   "nbconvert_exporter": "python",
   "pygments_lexer": "ipython3",
   "version": "3.10.0"
  },
  "orig_nbformat": 4
 },
 "nbformat": 4,
 "nbformat_minor": 2
}
